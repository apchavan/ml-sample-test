{
  "nbformat": 4,
  "nbformat_minor": 0,
  "metadata": {
    "colab": {
      "name": "SSH_Colab_setup.ipynb",
      "provenance": [],
      "collapsed_sections": [],
      "authorship_tag": "ABX9TyNRIVCynavVmm0wRT52OvSx"
    },
    "kernelspec": {
      "display_name": "Python 3",
      "name": "python3"
    },
    "accelerator": "GPU"
  },
  "cells": [
    {
      "cell_type": "markdown",
      "metadata": {
        "id": "ESRCsbInZxIe"
      },
      "source": [
        "* ***NOTE*** &#10233; <BR />\n",
        "1. We need account on [ngrok](https://ngrok.com/) (to create secure tunnels to \n",
        "localhost) and **auth token** for that account. <BR />\n",
        "2. Also we'll use [colab_ssh](https://github.com/WassimBenzarti/colab-ssh) package to connect Colab using SSH with *ngrok*.\n",
        "* We can also try similar procedure for **TPU**s.\n",
        "\n",
        "## Steps to connect colab **GPU** using SSH &#10233; <BR />\n",
        "1. Select **GPU** runtime for notebook. <BR />\n",
        "2. Run **all** cells below (we'll get Colab address, port number & last cell will mount Google Drive at ***/content/drive*** location). <BR />\n",
        "3. Use *ssh* command in local terminal to connect. <BR />\n",
        "   For e.g. &#10230; *ssh root@COLAB_ADDRESS -p COLB_PORT_NO*\n",
        "\n",
        "## Steps to disconnect colab **GPU** from SSH &#10233; <BR />\n",
        "1. Type *exit* command in local terminal to close SSH connection. <BR />\n",
        "2. **Comment**/**uncomment** two *drive* function calls in 3<sup>rd</sup> cell below. <BR />\n",
        "3. Run the **last** cell again to **unmount** the Google Drive. <BR />"
      ]
    },
    {
      "cell_type": "code",
      "metadata": {
        "id": "DU6qBGSRSSEe"
      },
      "source": [
        "!pip install --upgrade colab_ssh"
      ],
      "execution_count": null,
      "outputs": []
    },
    {
      "cell_type": "code",
      "metadata": {
        "id": "jE7TjyvuS8qc"
      },
      "source": [
        "from colab_ssh import launch_ssh\n",
        "launch_ssh(\"YOUR_NGROK_AUTH_TOKEN\", \"SOME_PASSWORD\")"
      ],
      "execution_count": null,
      "outputs": []
    },
    {
      "cell_type": "code",
      "metadata": {
        "id": "893es-aMWV8d"
      },
      "source": [
        "from google.colab import drive\n",
        "drive.mount(\"/content/drive\", force_remount=True)\n",
        "\n",
        "# First 'exit' SSH terminal; uncomment line below and comment line above, then run this cell again.\n",
        "# drive.flush_and_unmount()"
      ],
      "execution_count": null,
      "outputs": []
    }
  ]
}