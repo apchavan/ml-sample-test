{
  "nbformat": 4,
  "nbformat_minor": 0,
  "metadata": {
    "colab": {
      "name": "Hardware_Accelerator_Check.ipynb",
      "provenance": [],
      "collapsed_sections": [],
      "authorship_tag": "ABX9TyMDYs9RM8a6DClIHUg8DL5E"
    },
    "kernelspec": {
      "name": "python3",
      "display_name": "Python 3"
    },
    "accelerator": "TPU"
  },
  "cells": [
    {
      "cell_type": "markdown",
      "metadata": {
        "id": "r9BqKNKIpub2"
      },
      "source": [
        "### &#129074; Select '**Runtime**' in menu and then '**Change runtime type**' to choose from None (CPU), GPU or TPU."
      ]
    },
    {
      "cell_type": "code",
      "metadata": {
        "id": "-rtgjHpX-vTT"
      },
      "source": [
        "import tensorflow as tf"
      ],
      "execution_count": 1,
      "outputs": []
    },
    {
      "cell_type": "code",
      "metadata": {
        "id": "AzoyfDb-tuLR",
        "colab": {
          "base_uri": "https://localhost:8080/"
        },
        "outputId": "80d0e396-a209-48d0-c243-96950e18c60d"
      },
      "source": [
        "print(f\"Total available physical CPUs : {len(tf.config.experimental.list_physical_devices('CPU'))}\")\n",
        "print(f\"Total available physical GPUs : {len(tf.config.experimental.list_physical_devices('GPU'))}\")\n",
        "\n",
        "print(f\"Total available logical CPUs : {len(tf.config.experimental.list_logical_devices('CPU'))}\")\n",
        "print(f\"Total available logical GPUs : {len(tf.config.experimental.list_logical_devices('GPU'))}\")"
      ],
      "execution_count": 2,
      "outputs": [
        {
          "output_type": "stream",
          "text": [
            "Total available physical CPUs : 1\n",
            "Total available physical GPUs : 1\n",
            "Total available logical CPUs : 1\n",
            "Total available logical GPUs : 1\n"
          ],
          "name": "stdout"
        }
      ]
    },
    {
      "cell_type": "code",
      "metadata": {
        "id": "mw3jG5oWHWO_",
        "colab": {
          "base_uri": "https://localhost:8080/"
        },
        "outputId": "a54f4a2e-41e6-4b2f-992a-16a03e4e9605"
      },
      "source": [
        "!nvidia-smi\n",
        "!/usr/local/cuda/bin/nvcc --version"
      ],
      "execution_count": 3,
      "outputs": [
        {
          "output_type": "stream",
          "text": [
            "Fri Dec  4 07:57:38 2020       \n",
            "+-----------------------------------------------------------------------------+\n",
            "| NVIDIA-SMI 455.38       Driver Version: 418.67       CUDA Version: 10.1     |\n",
            "|-------------------------------+----------------------+----------------------+\n",
            "| GPU  Name        Persistence-M| Bus-Id        Disp.A | Volatile Uncorr. ECC |\n",
            "| Fan  Temp  Perf  Pwr:Usage/Cap|         Memory-Usage | GPU-Util  Compute M. |\n",
            "|                               |                      |               MIG M. |\n",
            "|===============================+======================+======================|\n",
            "|   0  Tesla K80           Off  | 00000000:00:04.0 Off |                    0 |\n",
            "| N/A   34C    P0    60W / 149W |    134MiB / 11441MiB |      1%      Default |\n",
            "|                               |                      |                 ERR! |\n",
            "+-------------------------------+----------------------+----------------------+\n",
            "                                                                               \n",
            "+-----------------------------------------------------------------------------+\n",
            "| Processes:                                                                  |\n",
            "|  GPU   GI   CI        PID   Type   Process name                  GPU Memory |\n",
            "|        ID   ID                                                   Usage      |\n",
            "|=============================================================================|\n",
            "|  No running processes found                                                 |\n",
            "+-----------------------------------------------------------------------------+\n",
            "nvcc: NVIDIA (R) Cuda compiler driver\n",
            "Copyright (c) 2005-2019 NVIDIA Corporation\n",
            "Built on Sun_Jul_28_19:07:16_PDT_2019\n",
            "Cuda compilation tools, release 10.1, V10.1.243\n"
          ],
          "name": "stdout"
        }
      ]
    },
    {
      "cell_type": "code",
      "metadata": {
        "colab": {
          "base_uri": "https://localhost:8080/"
        },
        "id": "xwo7XU8owVGx",
        "outputId": "43ba8711-4775-4e5e-8812-4568c24a43bb"
      },
      "source": [
        "print(f\"TPU : {tf.distribute.cluster_resolver.TPUClusterResolver()}\")   # TPU detection"
      ],
      "execution_count": 2,
      "outputs": [
        {
          "output_type": "stream",
          "text": [
            "TPU : <tensorflow.python.distribute.cluster_resolver.tpu.tpu_cluster_resolver.TPUClusterResolver object at 0x7fa2107accc0>\n"
          ],
          "name": "stdout"
        }
      ]
    }
  ]
}